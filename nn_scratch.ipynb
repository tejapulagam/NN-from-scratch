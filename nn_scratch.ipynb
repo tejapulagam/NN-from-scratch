{
 "cells": [
  {
   "cell_type": "markdown",
   "id": "627f0e55-6d36-456b-8832-21a4bcff4cbe",
   "metadata": {
    "tags": []
   },
   "source": [
    "## Binary classification neural network from scratch"
   ]
  },
  {
   "cell_type": "code",
   "execution_count": 30,
   "id": "0d425d8c-9f16-4839-b5d4-6296c11a7e0c",
   "metadata": {},
   "outputs": [],
   "source": [
    "import os\n",
    "import numpy as np\n",
    "import torch\n",
    "import requests\n",
    "import tarfile\n",
    "\n",
    "from PIL import Image\n",
    "from torch import tensor\n",
    "from torch.utils.data import DataLoader\n",
    "import torchvision.datasets\n",
    "from pathlib import Path\n",
    "from dataclasses import dataclass"
   ]
  },
  {
   "cell_type": "markdown",
   "id": "0d129b08-64a6-4146-a45e-3ac4172d359d",
   "metadata": {},
   "source": [
    "#### MetaParameters\n",
    "- keeping track of all global variables: Batch size, learning rate, number of epochs"
   ]
  },
  {
   "cell_type": "code",
   "execution_count": 33,
   "id": "24d3938e-009c-4bad-bc64-d786a3cebec2",
   "metadata": {},
   "outputs": [
    {
     "data": {
      "text/plain": [
       "MetaParameters(batch_size=64, learning_rate=1.0, n_epochs=8)"
      ]
     },
     "execution_count": 33,
     "metadata": {},
     "output_type": "execute_result"
    }
   ],
   "source": [
    "### ADJUST METAPARAMETERS HERE\n",
    "@dataclass\n",
    "class MetaParameters:\n",
    "    batch_size: int\n",
    "    learning_rate: float\n",
    "    n_epochs: int\n",
    "    \n",
    "mp = MetaParameters(64, 1., 8)\n",
    "mp"
   ]
  },
  {
   "cell_type": "code",
   "execution_count": 34,
   "id": "d96152bb-f6f0-4497-b794-dc8ab1e30dbf",
   "metadata": {},
   "outputs": [],
   "source": [
    "dev = torch.device('cuda')"
   ]
  },
  {
   "cell_type": "code",
   "execution_count": 35,
   "id": "80b04f7c-96cc-4168-8f1c-60f3e21c8cd9",
   "metadata": {},
   "outputs": [],
   "source": [
    "def ls(path: Path):\n",
    "    return [p for p in path.glob('./*')]"
   ]
  },
  {
   "cell_type": "code",
   "execution_count": 37,
   "id": "49e8b620-1545-46e4-997f-d3b5c91431eb",
   "metadata": {},
   "outputs": [
    {
     "data": {
      "text/plain": [
       "([Path('/home/c/projects/NN-from-scratch/mnist_png/testing'),\n",
       "  Path('/home/c/projects/NN-from-scratch/mnist_png/training')],\n",
       " 'mnist_png')"
      ]
     },
     "execution_count": 37,
     "metadata": {},
     "output_type": "execute_result"
    }
   ],
   "source": [
    "path = Path('/home/c/projects/NN-from-scratch/mnist_png')\n",
    "ls(path), path.name"
   ]
  },
  {
   "cell_type": "code",
   "execution_count": null,
   "id": "ca9609f9-a456-4403-bb04-bbc9d57e5030",
   "metadata": {
    "tags": []
   },
   "outputs": [],
   "source": [
    "# Note: p represents purpose between train and valid\n",
    "data = {\n",
    "    p: {\n",
    "        number: torch.stack([tensor(np.array(Image.open(o))).to(dev) \n",
    "                for o in ls((path/f'{p}/{number}'))]).float()/255 for number in ('3', '7')\n",
    "    } for p in ('train', 'valid')\n",
    "}"
   ]
  },
  {
   "cell_type": "code",
   "execution_count": null,
   "id": "fab4b041-d5cc-4fac-9910-3034b4743ecb",
   "metadata": {},
   "outputs": [],
   "source": [
    "x = {\n",
    "    p: torch.cat((data[p]['3'], data[p]['7'])).view(-1, 28*28)\n",
    "                for p in ('train', 'valid')\n",
    "}\n",
    "y = {\n",
    "    p: tensor([1] * len(data[p]['3']) + [0] * len(data[p]['7']), device=dev).unsqueeze(1)\n",
    "                for p in ('train', 'valid')\n",
    "}\n",
    "\n",
    "dsets = {p: list(zip(x[p], y[p])) for p in ('train', 'valid')}"
   ]
  },
  {
   "cell_type": "code",
   "execution_count": null,
   "id": "69f25b44-eb3c-4633-be90-33c581cb3279",
   "metadata": {},
   "outputs": [],
   "source": [
    "dls = {p: DataLoader(dsets[p], batch_size=mp.batch_size, shuffle=True) for p in ('train', 'valid')}"
   ]
  },
  {
   "cell_type": "code",
   "execution_count": null,
   "id": "50e9cbe4-0db9-4c38-8596-54c2793bf660",
   "metadata": {
    "tags": []
   },
   "outputs": [],
   "source": [
    "def model(x, w, b):\n",
    "    return x@w + b"
   ]
  },
  {
   "cell_type": "code",
   "execution_count": null,
   "id": "98fefcd5-f6a0-4dff-b80a-48e32e4714f1",
   "metadata": {},
   "outputs": [],
   "source": [
    "def mnist_loss(predictions, targets) -> float:\n",
    "    predictions = predictions.sigmoid()\n",
    "    return torch.where(targets == 0, predictions, 1 - predictions).mean()"
   ]
  },
  {
   "cell_type": "code",
   "execution_count": null,
   "id": "f0d2128c-747f-482a-bf16-d85a01295408",
   "metadata": {},
   "outputs": [],
   "source": [
    "def init_params(shape):\n",
    "    return torch.randn(shape, requires_grad=True, dtype=torch.float, device=dev)"
   ]
  },
  {
   "cell_type": "code",
   "execution_count": null,
   "id": "8af6c7e3-524e-4bec-8035-c812d09ccd93",
   "metadata": {},
   "outputs": [],
   "source": [
    "def train(dl, params):\n",
    "    for x, y in dl:\n",
    "        preds = model(x, weights, bias)\n",
    "        loss = mnist_loss(preds, y)\n",
    "        loss.backward()\n",
    "        for p in params:\n",
    "            p.data -= p.grad * mp.learning_rate\n",
    "            p.grad.zero_()"
   ]
  },
  {
   "cell_type": "code",
   "execution_count": null,
   "id": "f998ce61-be43-453b-9871-5c1391885f5f",
   "metadata": {
    "tags": []
   },
   "outputs": [],
   "source": [
    "weights = init_params((28*28, 1))\n",
    "bias = init_params(1)"
   ]
  },
  {
   "cell_type": "code",
   "execution_count": null,
   "id": "21ac6d41-d623-44f8-b250-1bf7bad8f227",
   "metadata": {},
   "outputs": [],
   "source": [
    "def batch_accuracy(preds, trgts):\n",
    "    preds = preds.sigmoid()\n",
    "    return ((preds > .5) == trgts).float().mean()\n",
    "\n",
    "def accuracy(valid_dl, weights, bias):\n",
    "    accs = [batch_accuracy(model(xb, weights, bias), yb) for xb, yb in valid_dl]\n",
    "    return round(torch.stack(accs).mean().item(), 7)"
   ]
  },
  {
   "cell_type": "code",
   "execution_count": null,
   "id": "f0cc291b-d6a8-48b0-b5d3-45fa2c52efef",
   "metadata": {},
   "outputs": [
    {
     "name": "stdout",
     "output_type": "stream",
     "text": [
      "0.9598705\n",
      "0.9690574\n",
      "0.9696361\n",
      "0.9731445\n",
      "0.9730541\n",
      "0.9750072\n",
      "0.9754051\n",
      "0.9758934\n"
     ]
    }
   ],
   "source": [
    "params = weights, bias\n",
    "for i in range(mp.n_epochs):\n",
    "    #train_epoch(train_dl, model, mp.learning_rate, params)\n",
    "    #print(validate_epoch(model))\n",
    "    train(dls['train'], params)\n",
    "    print(accuracy(dls['valid'], weights, bias))"
   ]
  }
 ],
 "metadata": {
  "kernelspec": {
   "display_name": "Python 3 (ipykernel)",
   "language": "python",
   "name": "python3"
  },
  "language_info": {
   "codemirror_mode": {
    "name": "ipython",
    "version": 3
   },
   "file_extension": ".py",
   "mimetype": "text/x-python",
   "name": "python",
   "nbconvert_exporter": "python",
   "pygments_lexer": "ipython3",
   "version": "3.10.4"
  }
 },
 "nbformat": 4,
 "nbformat_minor": 5
}
