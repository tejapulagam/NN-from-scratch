{
 "cells": [
  {
   "cell_type": "markdown",
   "id": "627f0e55-6d36-456b-8832-21a4bcff4cbe",
   "metadata": {
    "tags": []
   },
   "source": [
    "## Binary classification neural network from scratch"
   ]
  },
  {
   "cell_type": "code",
   "execution_count": 164,
   "id": "0d425d8c-9f16-4839-b5d4-6296c11a7e0c",
   "metadata": {},
   "outputs": [],
   "source": [
    "import os\n",
    "import numpy as np\n",
    "import torch\n",
    "import requests\n",
    "import tarfile\n",
    "import pandas as pd\n",
    "import matplotlib.pyplot as plt\n",
    "import time\n",
    "\n",
    "from PIL import Image\n",
    "from torch import tensor\n",
    "from torch.utils.data import DataLoader\n",
    "from pathlib import Path\n",
    "from dataclasses import dataclass\n",
    "from fastbook import show_image"
   ]
  },
  {
   "cell_type": "markdown",
   "id": "0d129b08-64a6-4146-a45e-3ac4172d359d",
   "metadata": {},
   "source": [
    "#### MetaParameters\n",
    "- keeping track of all global variables: Batch size, learning rate, number of epochs"
   ]
  },
  {
   "cell_type": "code",
   "execution_count": 2,
   "id": "24d3938e-009c-4bad-bc64-d786a3cebec2",
   "metadata": {},
   "outputs": [
    {
     "data": {
      "text/plain": [
       "MetaParameters(batch_size=64, learning_rate=1.0, n_epochs=8)"
      ]
     },
     "execution_count": 2,
     "metadata": {},
     "output_type": "execute_result"
    }
   ],
   "source": [
    "### ADJUST METAPARAMETERS HERE\n",
    "@dataclass\n",
    "class MetaParameters:\n",
    "    batch_size: int\n",
    "    learning_rate: float\n",
    "    n_epochs: int\n",
    "    \n",
    "mp = MetaParameters(64, 1., 8)\n",
    "mp"
   ]
  },
  {
   "cell_type": "code",
   "execution_count": 96,
   "id": "d96152bb-f6f0-4497-b794-dc8ab1e30dbf",
   "metadata": {},
   "outputs": [],
   "source": [
    "dev = torch.device('cuda')\n",
    "cpu = torch.device('cpu')"
   ]
  },
  {
   "cell_type": "code",
   "execution_count": 176,
   "id": "80b04f7c-96cc-4168-8f1c-60f3e21c8cd9",
   "metadata": {},
   "outputs": [],
   "source": [
    "def ls(path: Path):\n",
    "    return [p for p in path.glob('./*')][:5400]"
   ]
  },
  {
   "cell_type": "code",
   "execution_count": 177,
   "id": "49e8b620-1545-46e4-997f-d3b5c91431eb",
   "metadata": {},
   "outputs": [
    {
     "data": {
      "text/plain": [
       "([Path('/home/c/projects/NN-from-scratch/mnist_png/train'),\n",
       "  Path('/home/c/projects/NN-from-scratch/mnist_png/valid')],\n",
       " 'mnist_png')"
      ]
     },
     "execution_count": 177,
     "metadata": {},
     "output_type": "execute_result"
    }
   ],
   "source": [
    "path = Path('/home/c/projects/NN-from-scratch/mnist_png')\n",
    "ls(path), path.name"
   ]
  },
  {
   "cell_type": "code",
   "execution_count": 192,
   "id": "2e5ed921-8eaf-424a-85e5-3e4ec1417525",
   "metadata": {},
   "outputs": [],
   "source": [
    "# Note: p represents purpose between train and valid\n",
    "n = torch.stack([torch.stack([tensor(np.array(Image.open(o))/255, dtype=float, device=dev) for o in ls((path/f'train/{number}'))]) for number in range(10)])"
   ]
  },
  {
   "cell_type": "code",
   "execution_count": 180,
   "id": "74ca0594-7c82-4682-818b-2183bbe98ec4",
   "metadata": {},
   "outputs": [],
   "source": [
    "def distance(num1, num2):\n",
    "    return ((num1-num2)**2).float().mean().sqrt()"
   ]
  },
  {
   "cell_type": "code",
   "execution_count": null,
   "id": "e3327672-3a46-4d87-bc17-c5bb5c7358bf",
   "metadata": {},
   "outputs": [],
   "source": [
    "x = tensor([3, 6, 8])\n",
    "y = tensor([[4, 3, 6], [4, 5, 6]])\n",
    "distance(x, y)"
   ]
  },
  {
   "cell_type": "code",
   "execution_count": 158,
   "id": "6292ea16-3d13-407f-bd6b-dce8f3f7ed26",
   "metadata": {},
   "outputs": [
    {
     "data": {
      "text/plain": [
       "torch.Size([5923, 28, 28])"
      ]
     },
     "execution_count": 158,
     "metadata": {},
     "output_type": "execute_result"
    }
   ],
   "source": [
    "n[0].shape"
   ]
  },
  {
   "cell_type": "code",
   "execution_count": 175,
   "id": "63a83209-f334-4cca-b5ad-5f1332b4bee3",
   "metadata": {},
   "outputs": [
    {
     "data": {
      "text/plain": [
       "<matplotlib.image.AxesImage at 0x7f4706315bd0>"
      ]
     },
     "execution_count": 175,
     "metadata": {},
     "output_type": "execute_result"
    },
    {
     "data": {
      "image/png": "[encoded data removed]",
      "text/plain": [
       "<Figure size 432x288 with 1 Axes>"
      ]
     },
     "metadata": {
      "needs_background": "light"
     },
     "output_type": "display_data"
    }
   ],
   "source": [
    "plt.imshow(n[0].mean(0))"
   ]
  },
  {
   "cell_type": "code",
   "execution_count": 190,
   "id": "2858f939-1e46-410a-892f-ce5bc37e7802",
   "metadata": {},
   "outputs": [
    {
     "data": {
      "text/plain": [
       "tensor([[ 0.0000, 69.0796, 51.3770, 51.0432, 57.0495, 41.4694, 51.9459, 58.0213, 51.3034, 56.4202],\n",
       "        [69.0796,  0.0000, 46.2634, 46.7015, 51.4722, 44.0385, 51.8608, 48.9921, 43.4117, 48.4744],\n",
       "        [51.3770, 46.2634,  0.0000, 40.0439, 43.0069, 41.2454, 36.0769, 48.8914, 35.0530, 44.9536],\n",
       "        [51.0432, 46.7015, 40.0439,  0.0000, 47.6859, 28.2716, 48.9152, 47.6221, 32.9609, 43.4849],\n",
       "        [57.0495, 51.4722, 43.0069, 47.6859,  0.0000, 37.4246, 39.0604, 36.6421, 39.4767, 22.5554],\n",
       "        [41.4694, 44.0385, 41.2454, 28.2716, 37.4246,  0.0000, 39.8636, 40.7589, 28.2783, 34.3254],\n",
       "        [51.9459, 51.8608, 36.0769, 48.9152, 39.0604, 39.8636,  0.0000, 51.6750, 42.6679, 43.0308],\n",
       "        [58.0213, 48.9921, 48.8914, 47.6221, 36.6421, 40.7589, 51.6750,  0.0000, 43.6946, 27.3276],\n",
       "        [51.3034, 43.4117, 35.0530, 32.9609, 39.4767, 28.2783, 42.6679, 43.6946,  0.0000, 34.8323],\n",
       "        [56.4202, 48.4744, 44.9536, 43.4849, 22.5554, 34.3254, 43.0308, 27.3276, 34.8323,  0.0000]])"
      ]
     },
     "execution_count": 190,
     "metadata": {},
     "output_type": "execute_result"
    }
   ],
   "source": [
    "x = torch.zeros((10, 10))\n",
    "for i in range(10):\n",
    "    for j in range(10):\n",
    "        x[i, j] = distance(n[i].mean(0), n[j].mean(0))\n",
    "x"
   ]
  },
  {
   "cell_type": "code",
   "execution_count": 186,
   "id": "ffe2f991-3e66-45dc-8307-9bb74e815956",
   "metadata": {},
   "outputs": [
    {
     "data": {
      "text/plain": [
       "(0, 0)"
      ]
     },
     "execution_count": 186,
     "metadata": {},
     "output_type": "execute_result"
    }
   ],
   "source": [
    "x, y = 0, 0\n",
    "x, y"
   ]
  },
  {
   "cell_type": "code",
   "execution_count": 18,
   "id": "ca9609f9-a456-4403-bb04-bbc9d57e5030",
   "metadata": {
    "tags": []
   },
   "outputs": [],
   "source": [
    "# Note: p represents purpose between train and valid\n",
    "data = {\n",
    "    p: {\n",
    "        number: torch.stack([tensor(np.array(Image.open(o))).to(dev) \n",
    "                for o in ls((path/f'{p}/{number}'))]).float()/255 for number in ('5', '9')\n",
    "    } for p in ('train', 'valid')\n",
    "}"
   ]
  },
  {
   "cell_type": "code",
   "execution_count": 19,
   "id": "fab4b041-d5cc-4fac-9910-3034b4743ecb",
   "metadata": {},
   "outputs": [],
   "source": [
    "x = {\n",
    "    p: torch.cat((data[p]['5'], data[p]['9'])).view(-1, 28*28)\n",
    "                for p in ('train', 'valid')\n",
    "}\n",
    "y = {\n",
    "    p: tensor([1] * len(data[p]['5']) + [0] * len(data[p]['9']), device=dev).unsqueeze(1)\n",
    "                for p in ('train', 'valid')\n",
    "}\n",
    "\n",
    "dsets = {p: list(zip(x[p], y[p])) for p in ('train', 'valid')}"
   ]
  },
  {
   "cell_type": "code",
   "execution_count": 20,
   "id": "69f25b44-eb3c-4633-be90-33c581cb3279",
   "metadata": {},
   "outputs": [],
   "source": [
    "dls = {p: DataLoader(dsets[p], batch_size=mp.batch_size, shuffle=True) for p in ('train', 'valid')}"
   ]
  },
  {
   "cell_type": "code",
   "execution_count": 21,
   "id": "50e9cbe4-0db9-4c38-8596-54c2793bf660",
   "metadata": {
    "tags": []
   },
   "outputs": [],
   "source": [
    "def model(x, w, b):\n",
    "    return x@w + b"
   ]
  },
  {
   "cell_type": "code",
   "execution_count": 22,
   "id": "98fefcd5-f6a0-4dff-b80a-48e32e4714f1",
   "metadata": {},
   "outputs": [],
   "source": [
    "def mnist_loss(predictions, targets) -> float:\n",
    "    predictions = predictions.sigmoid()\n",
    "    return torch.where(targets == 0, predictions, 1 - predictions).mean()"
   ]
  },
  {
   "cell_type": "code",
   "execution_count": 23,
   "id": "f0d2128c-747f-482a-bf16-d85a01295408",
   "metadata": {},
   "outputs": [],
   "source": [
    "def init_params(shape):\n",
    "    return torch.randn(shape, requires_grad=True, dtype=torch.float, device=dev)"
   ]
  },
  {
   "cell_type": "code",
   "execution_count": 24,
   "id": "8af6c7e3-524e-4bec-8035-c812d09ccd93",
   "metadata": {},
   "outputs": [],
   "source": [
    "def train(dl, params):\n",
    "    for x, y in dl:\n",
    "        preds = model(x, weights, bias)\n",
    "        loss = mnist_loss(preds, y)\n",
    "        loss.backward()\n",
    "        for p in params:\n",
    "            p.data -= p.grad * mp.learning_rate\n",
    "            p.grad.zero_()"
   ]
  },
  {
   "cell_type": "code",
   "execution_count": 25,
   "id": "f998ce61-be43-453b-9871-5c1391885f5f",
   "metadata": {
    "tags": []
   },
   "outputs": [],
   "source": [
    "weights = init_params((28*28, 1))\n",
    "bias = init_params(1)"
   ]
  },
  {
   "cell_type": "code",
   "execution_count": 26,
   "id": "21ac6d41-d623-44f8-b250-1bf7bad8f227",
   "metadata": {},
   "outputs": [],
   "source": [
    "def batch_accuracy(preds, trgts):\n",
    "    preds = preds.sigmoid()\n",
    "    return ((preds > .5) == trgts).float().mean()\n",
    "\n",
    "def accuracy(valid_dl, weights, bias):\n",
    "    accs = [batch_accuracy(model(xb, weights, bias), yb) for xb, yb in valid_dl]\n",
    "    return round(torch.stack(accs).mean().item(), 7)"
   ]
  },
  {
   "cell_type": "code",
   "execution_count": 27,
   "id": "f0cc291b-d6a8-48b0-b5d3-45fa2c52efef",
   "metadata": {},
   "outputs": [
    {
     "name": "stdout",
     "output_type": "stream",
     "text": [
      "0.9541667\n",
      "0.962882\n",
      "0.9662269\n",
      "0.9690509\n",
      "0.969132\n",
      "0.9709144\n",
      "0.9735186\n",
      "0.9740394\n"
     ]
    }
   ],
   "source": [
    "params = weights, bias\n",
    "for i in range(mp.n_epochs):\n",
    "    #train_epoch(train_dl, model, mp.learning_rate, params)\n",
    "    #print(validate_epoch(model))\n",
    "    train(dls['train'], params)\n",
    "    print(accuracy(dls['valid'], weights, bias))"
   ]
  },
  {
   "cell_type": "code",
   "execution_count": null,
   "id": "732f9974-2795-45dc-82ac-95fda64d0b42",
   "metadata": {},
   "outputs": [],
   "source": []
  }
 ],
 "metadata": {
  "kernelspec": {
   "display_name": "Python 3 (ipykernel)",
   "language": "python",
   "name": "python3"
  },
  "language_info": {
   "codemirror_mode": {
    "name": "ipython",
    "version": 3
   },
   "file_extension": ".py",
   "mimetype": "text/x-python",
   "name": "python",
   "nbconvert_exporter": "python",
   "pygments_lexer": "ipython3",
   "version": "3.10.4"
  }
 },
 "nbformat": 4,
 "nbformat_minor": 5
}
